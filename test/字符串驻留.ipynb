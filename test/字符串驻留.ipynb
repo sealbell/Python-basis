{
 "cells": [
  {
   "cell_type": "code",
   "execution_count": 3,
   "id": "035459ac-1031-40d4-8d19-dd2bfa35d5b5",
   "metadata": {},
   "outputs": [
    {
     "data": {
      "text/plain": [
       "123"
      ]
     },
     "execution_count": 3,
     "metadata": {},
     "output_type": "execute_result"
    }
   ],
   "source": [
    "var1 = 123\n",
    "var1"
   ]
  },
  {
   "cell_type": "code",
   "execution_count": 5,
   "id": "41cf95bb-332a-4d9e-9269-ee77036ba479",
   "metadata": {},
   "outputs": [
    {
     "data": {
      "text/plain": [
       "456"
      ]
     },
     "execution_count": 5,
     "metadata": {},
     "output_type": "execute_result"
    }
   ],
   "source": [
    "var2 = 456\n",
    "var2"
   ]
  },
  {
   "cell_type": "code",
   "execution_count": 7,
   "id": "963d562d-68d1-4e07-8dbf-80889d724b2b",
   "metadata": {},
   "outputs": [
    {
     "name": "stdout",
     "output_type": "stream",
     "text": [
      "456\n",
      "456\n"
     ]
    }
   ],
   "source": [
    "var1 = var2\n",
    "print(var1)\n",
    "print(var2)"
   ]
  },
  {
   "cell_type": "code",
   "execution_count": 9,
   "id": "3c2aacd3-6c5a-4169-a530-2079137d8082",
   "metadata": {},
   "outputs": [
    {
     "name": "stdout",
     "output_type": "stream",
     "text": [
      "456\n",
      "789\n"
     ]
    }
   ],
   "source": [
    "var2 = 789\n",
    "print(var1)\n",
    "print(var2)"
   ]
  },
  {
   "cell_type": "code",
   "execution_count": 10,
   "id": "b2f3c61b-1480-4f2c-bc33-221de0a6e3d6",
   "metadata": {},
   "outputs": [
    {
     "name": "stdout",
     "output_type": "stream",
     "text": [
      "456\n"
     ]
    }
   ],
   "source": [
    "print(var1)"
   ]
  },
  {
   "cell_type": "code",
   "execution_count": 11,
   "id": "a728d397-1f49-4acb-970c-db2c5594da5a",
   "metadata": {},
   "outputs": [
    {
     "name": "stdout",
     "output_type": "stream",
     "text": [
      "456\n"
     ]
    }
   ],
   "source": [
    "var1 = 123\n",
    "var2 = 456\n",
    "var1 = var2\n",
    "var2 = 789\n",
    "print(var1)"
   ]
  },
  {
   "cell_type": "code",
   "execution_count": null,
   "id": "7858fd15-7b70-4125-9c39-de8b22770971",
   "metadata": {},
   "outputs": [],
   "source": []
  }
 ],
 "metadata": {
  "kernelspec": {
   "display_name": "Python 3 (ipykernel)",
   "language": "python",
   "name": "python3"
  },
  "language_info": {
   "codemirror_mode": {
    "name": "ipython",
    "version": 3
   },
   "file_extension": ".py",
   "mimetype": "text/x-python",
   "name": "python",
   "nbconvert_exporter": "python",
   "pygments_lexer": "ipython3",
   "version": "3.12.1"
  }
 },
 "nbformat": 4,
 "nbformat_minor": 5
}
