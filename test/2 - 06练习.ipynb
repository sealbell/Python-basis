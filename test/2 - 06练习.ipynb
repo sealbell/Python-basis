{
 "cells": [
  {
   "cell_type": "markdown",
   "id": "29fb8bef-6505-4ddf-97c6-20b0b9e237b7",
   "metadata": {},
   "source": [
    "# 练习\n",
    "\n",
    "已知有两个列表，分别为：\n",
    "\n",
    "```Python\n",
    "keys = ['name1', 'name2', 'name3']\n",
    "values = ['1111', '2222', '3333']\n",
    "```\n",
    "\n",
    "现需要将这两个列表组成一个如下字典，请编写程序实现：\n",
    "\n",
    "```Python\n",
    "# 期望结果\n",
    "{'name1': '1111', 'name2': '2222', 'name3': '3333'}\n",
    "```\n"
   ]
  },
  {
   "cell_type": "markdown",
   "id": "1ca60054-0f9c-405e-9a36-4e8072edd1f0",
   "metadata": {},
   "source": [
    "## 方法一"
   ]
  },
  {
   "cell_type": "code",
   "execution_count": 1,
   "id": "6a6b2b8f-56d5-46d1-9fec-be1b7c2e17de",
   "metadata": {},
   "outputs": [],
   "source": [
    "# 载入两个列表\n",
    "keys = ['name1', 'name2', 'name3']\n",
    "values = ['1111', '2222', '3333']"
   ]
  },
  {
   "cell_type": "code",
   "execution_count": 2,
   "id": "0850276e-45ea-49c3-8df5-cd861cd02aaf",
   "metadata": {},
   "outputs": [],
   "source": [
    "# 使用 zip 函数将 keys 和 values 组合在一起，然后转换为字典\n",
    "result = dict(zip(keys, values))"
   ]
  },
  {
   "cell_type": "code",
   "execution_count": 3,
   "id": "f7e9b553-0396-4429-a2f0-1af864d54db6",
   "metadata": {},
   "outputs": [
    {
     "name": "stdout",
     "output_type": "stream",
     "text": [
      "{'name1': '1111', 'name2': '2222', 'name3': '3333'}\n"
     ]
    }
   ],
   "source": [
    "print(result)"
   ]
  },
  {
   "cell_type": "markdown",
   "id": "8496ee49-6b94-4856-965f-29c28bc69ae2",
   "metadata": {},
   "source": [
    "### 解释\n",
    "1. `zip(keys, values)` 会生成一个元组对的迭代器，其中第一个元组包含 `keys` 列表和 `values` 列表的第一个元素，第二个元组包含第二个元素，以此类推。\n",
    "2. `dict(zip(keys, values))` 将这些元组对转换成一个字典，其中每个元组的第一个元素作为键，第二个元素作为值。\n",
    "你也可以手动遍历两个列表来实现同样的效果，但使用 `zip` 和 `dict` 是最简洁和高效的方式。"
   ]
  },
  {
   "cell_type": "markdown",
   "id": "3c74e030-d8f2-423e-abea-c1674db5a206",
   "metadata": {},
   "source": [
    "## 方法二"
   ]
  },
  {
   "cell_type": "code",
   "execution_count": 5,
   "id": "fb09cdb8-a647-4574-b2f7-3b407c5a2afd",
   "metadata": {},
   "outputs": [],
   "source": [
    "# 载入两个列表\n",
    "keys = ['name1', 'name2', 'name3']\n",
    "values = ['1111', '2222', '3333']"
   ]
  },
  {
   "cell_type": "code",
   "execution_count": 7,
   "id": "764c768d-f553-45b0-872b-8ec72c72264a",
   "metadata": {},
   "outputs": [
    {
     "name": "stdout",
     "output_type": "stream",
     "text": [
      "{'name1': '1111', 'name2': '2222', 'name3': '3333'}\n"
     ]
    }
   ],
   "source": [
    "# 创建一个空字典\n",
    "result = {}\n",
    "\n",
    "# 使用 for 循环遍历 keys 和 values\n",
    "for i in range(len(keys)):\n",
    "    result[keys[i]] = values[i]\n",
    "\n",
    "print(result)"
   ]
  },
  {
   "cell_type": "code",
   "execution_count": null,
   "id": "a77178ad-da45-4ebe-864e-7ff1431ce556",
   "metadata": {},
   "outputs": [],
   "source": []
  }
 ],
 "metadata": {
  "kernelspec": {
   "display_name": "Python 3 (ipykernel)",
   "language": "python",
   "name": "python3"
  },
  "language_info": {
   "codemirror_mode": {
    "name": "ipython",
    "version": 3
   },
   "file_extension": ".py",
   "mimetype": "text/x-python",
   "name": "python",
   "nbconvert_exporter": "python",
   "pygments_lexer": "ipython3",
   "version": "3.12.1"
  }
 },
 "nbformat": 4,
 "nbformat_minor": 5
}
