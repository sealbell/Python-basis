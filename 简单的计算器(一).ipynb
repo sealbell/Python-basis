{
 "cells": [
  {
   "cell_type": "markdown",
   "id": "45c6c475-cac8-4207-b8f8-61ca488af9d4",
   "metadata": {},
   "source": [
    "# 简单的计算器"
   ]
  },
  {
   "cell_type": "markdown",
   "id": "93e3ff3d-274e-437f-891f-e4dead9333a7",
   "metadata": {},
   "source": [
    "## 需求分析（第一阶段）\n",
    "- 加法\n",
    "- 减法\n",
    "- 乘法\n",
    "- 除法"
   ]
  },
  {
   "cell_type": "code",
   "execution_count": 5,
   "id": "f64b7a40-df2f-45ce-9c6f-2a9218852d0c",
   "metadata": {},
   "outputs": [
    {
     "name": "stdout",
     "output_type": "stream",
     "text": [
      "4\n"
     ]
    }
   ],
   "source": [
    "#加法函数\n",
    "def add(x, y):\n",
    "    return x + y\n",
    "print(add(1,3))"
   ]
  },
  {
   "cell_type": "code",
   "execution_count": 29,
   "id": "dad4d844-9148-40c3-aa1a-f4014d125b78",
   "metadata": {},
   "outputs": [
    {
     "data": {
      "text/plain": [
       "-2"
      ]
     },
     "execution_count": 29,
     "metadata": {},
     "output_type": "execute_result"
    }
   ],
   "source": [
    "#减法函数\n",
    "def subtract(x, y):\n",
    "    return x - y\n",
    "subtract(1,3)"
   ]
  },
  {
   "cell_type": "code",
   "execution_count": 7,
   "id": "526271e5-f8d3-43c8-b3e8-9a1e448f0970",
   "metadata": {},
   "outputs": [
    {
     "data": {
      "text/plain": [
       "3"
      ]
     },
     "execution_count": 7,
     "metadata": {},
     "output_type": "execute_result"
    }
   ],
   "source": [
    "#乘法\n",
    "def multiply(x, y):\n",
    "    return x * y\n",
    "multiply(1,3)"
   ]
  },
  {
   "cell_type": "code",
   "execution_count": 9,
   "id": "4471b4d4-0a8e-449f-9e83-9fa173995c14",
   "metadata": {},
   "outputs": [
    {
     "name": "stdout",
     "output_type": "stream",
     "text": [
      "0.5\n",
      "除数不能为0\n"
     ]
    }
   ],
   "source": [
    "#除法\n",
    "def divide(x, y):\n",
    "    if y != 0:\n",
    "        return x / y\n",
    "    else:\n",
    "        return \"除数不能为0\"\n",
    "print(divide(5,10))\n",
    "print(divide(5,0))"
   ]
  },
  {
   "cell_type": "code",
   "execution_count": 30,
   "id": "ddbbf6cb-9458-4d78-ac51-dda12011c888",
   "metadata": {},
   "outputs": [],
   "source": [
    "#主函数(测试)\n",
    "def main():\n",
    "    print(\"欢迎来到简单的计算器！\")\n",
    "    num1 = int(input(\"请输入你的算式，第一个数字：\"))\n",
    "    operator = input(\"计算符号(+, -, *, /)：\")\n",
    "    num2 = int(input(\"请输入你的算式，第二个数字：\"))\n",
    "    #根据 operator 选择使用的函数\n",
    "    if operator == '+':\n",
    "        result = add(num1, num2)\n",
    "    elif operator == '-':\n",
    "        result = subtract(num1, num2)\n",
    "    elif operator == '*':\n",
    "        result = multiply(num1, num2)\n",
    "    elif operator == '/':\n",
    "        result = divide(num1, num2)\n",
    "\n",
    "    print(f\"算式的结果为{result}\")"
   ]
  },
  {
   "cell_type": "code",
   "execution_count": 25,
   "id": "3eeab6ab-b11c-4c5c-94bf-3f90ab6d8759",
   "metadata": {},
   "outputs": [
    {
     "name": "stdout",
     "output_type": "stream",
     "text": [
      "欢迎来到简单的计算器！\n"
     ]
    },
    {
     "name": "stdout",
     "output_type": "stream",
     "text": [
      "请输入你的算式，第一个数字： 50\n",
      "计算符号(+, -, *, /)： *\n",
      "请输入你的算式，第二个数字： 2\n"
     ]
    },
    {
     "name": "stdout",
     "output_type": "stream",
     "text": [
      "算式的结果为100\n"
     ]
    }
   ],
   "source": [
    "main()"
   ]
  },
  {
   "cell_type": "code",
   "execution_count": 26,
   "id": "4d5d0c6e-3a87-4fb1-9a0c-f5637caf324a",
   "metadata": {},
   "outputs": [
    {
     "name": "stdout",
     "output_type": "stream",
     "text": [
      "欢迎来到简单的计算器！\n"
     ]
    },
    {
     "name": "stdout",
     "output_type": "stream",
     "text": [
      "请输入你的算式，第一个数字： 50\n",
      "计算符号(+, -, *, /)： +\n",
      "请输入你的算式，第二个数字： 60\n"
     ]
    },
    {
     "name": "stdout",
     "output_type": "stream",
     "text": [
      "算式的结果为110\n"
     ]
    }
   ],
   "source": [
    "main()"
   ]
  },
  {
   "cell_type": "code",
   "execution_count": 27,
   "id": "22167cdd-26b8-4820-aef6-6bfafbb2734f",
   "metadata": {},
   "outputs": [
    {
     "name": "stdout",
     "output_type": "stream",
     "text": [
      "欢迎来到简单的计算器！\n"
     ]
    },
    {
     "name": "stdout",
     "output_type": "stream",
     "text": [
      "请输入你的算式，第一个数字： 50\n",
      "计算符号(+, -, *, /)： /\n",
      "请输入你的算式，第二个数字： 2\n"
     ]
    },
    {
     "name": "stdout",
     "output_type": "stream",
     "text": [
      "算式的结果为25.0\n"
     ]
    }
   ],
   "source": [
    "main()"
   ]
  },
  {
   "cell_type": "code",
   "execution_count": 28,
   "id": "c06e9d95-bcd1-4a0e-8ab7-999197019048",
   "metadata": {},
   "outputs": [
    {
     "name": "stdout",
     "output_type": "stream",
     "text": [
      "欢迎来到简单的计算器！\n"
     ]
    },
    {
     "name": "stdout",
     "output_type": "stream",
     "text": [
      "请输入你的算式，第一个数字： 50\n",
      "计算符号(+, -, *, /)： -\n",
      "请输入你的算式，第二个数字： 60\n"
     ]
    },
    {
     "name": "stdout",
     "output_type": "stream",
     "text": [
      "算式的结果为-10\n"
     ]
    }
   ],
   "source": [
    "main()"
   ]
  },
  {
   "cell_type": "markdown",
   "id": "e4e08553-5698-422f-9286-9be516603922",
   "metadata": {},
   "source": [
    "# 后续改进方法\n",
    "1. 改进用户输入处理\n",
    "问题: 当前的用户输入没有处理错误情况，例如输入非数字字符或无效的操作符。\n",
    "改进: 添加输入验证和错误处理，以确保用户输入有效。\n",
    "2. 重复计算循环\n",
    "问题: 目前代码没有循环来允许用户进行多次计算。\n",
    "改进: 使用 while 循环，允许用户多次执行计算，直到用户选择退出。\n",
    "3. 提高函数定义的可读性和一致性\n",
    "问题: subtract 函数名称拼写错误，应该为 subtract。\n",
    "改进: 修正拼写错误，并确保所有函数的名称和实现风格一致。\n",
    "4. 改进代码结构\n",
    "问题: 主函数 main 代码较长且没有结构化处理。\n",
    "改进: 将用户输入处理、计算执行和结果输出分别封装到单独的函数中，以提高代码的可读性和可维护性。\n",
    "5. 支持小数运算\n",
    "问题: 当前代码仅支持整数运算。\n",
    "改进: 使用 float 类型处理用户输入，以支持小数运算。\n",
    "6. 友好的用户界面\n",
    "问题: 当前界面较为简陋，没有用户友好的提示和格式化输出。\n",
    "改进: 提供更多的提示信息，并使用格式化输出使结果更清晰。"
   ]
  },
  {
   "cell_type": "code",
   "execution_count": null,
   "id": "ffa4e30a-444d-43d9-b29c-dcbc89516304",
   "metadata": {},
   "outputs": [],
   "source": []
  }
 ],
 "metadata": {
  "kernelspec": {
   "display_name": "Python 3 (ipykernel)",
   "language": "python",
   "name": "python3"
  },
  "language_info": {
   "codemirror_mode": {
    "name": "ipython",
    "version": 3
   },
   "file_extension": ".py",
   "mimetype": "text/x-python",
   "name": "python",
   "nbconvert_exporter": "python",
   "pygments_lexer": "ipython3",
   "version": "3.12.1"
  }
 },
 "nbformat": 4,
 "nbformat_minor": 5
}
